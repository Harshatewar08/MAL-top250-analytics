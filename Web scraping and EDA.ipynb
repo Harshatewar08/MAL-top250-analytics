{
 "cells": [
  {
   "cell_type": "markdown",
   "id": "8ec5af27",
   "metadata": {},
   "source": [
    "# *🎌 MyAnimeList Top 250 Anime – Web Scraping & Analysis*\n",
    "This project scrapes the Top 250 anime from MyAnimeList.net, extracting data such as title, rank, score, type, and number of episodes.\n",
    "It then performs exploratory data analysis (EDA) to uncover insights about anime trends and scoring.\n"
   ]
  },
  {
   "cell_type": "markdown",
   "id": "02f3e8ba",
   "metadata": {},
   "source": [
    "Importing libraries"
   ]
  },
  {
   "cell_type": "code",
   "execution_count": 3,
   "id": "1f0b9509",
   "metadata": {},
   "outputs": [],
   "source": [
    "import requests\n",
    "from bs4 import BeautifulSoup\n",
    "import pandas as pd\n",
    "import seaborn as sns\n",
    "import matplotlib.pyplot as plt\n",
    "import time"
   ]
  },
  {
   "cell_type": "code",
   "execution_count": 4,
   "id": "5d1ceb7f",
   "metadata": {},
   "outputs": [],
   "source": [
    "headers = {\n",
    "     'User-Agent': 'Mozilla/5.0 (Windows NT 10.0; Win64; x64)'\n",
    "}"
   ]
  },
  {
   "cell_type": "markdown",
   "id": "abaf13f6",
   "metadata": {},
   "source": [
    "Scrape All Pages (Top 250)"
   ]
  },
  {
   "cell_type": "code",
   "execution_count": 5,
   "id": "1d6d213d",
   "metadata": {},
   "outputs": [],
   "source": [
    "all_data=[]\n",
    "\n",
    "for offset in range(0, 250, 50):\n",
    "    url = f\"https://myanimelist.net/topanime.php?limit={offset}\"\n",
    "    response = requests.get(url, headers = headers)\n",
    "    soup = BeautifulSoup(response.text, 'html.parser')\n",
    "\n",
    "    anime_list = soup.select('tr.ranking-list')\n",
    "\n",
    "    for anime in anime_list:\n",
    "        title = anime.find('h3', class_='anime_ranking_h3').text.strip()\n",
    "        score = anime.find('span', class_='score-label').text.strip()\n",
    "        rank = anime.find('span', class_='top-anime-rank-text').text.strip()\n",
    "        info = anime.select_one('div.information').text.strip().replace('\\n', ' ')\n",
    "        \n",
    "        all_data.append({\n",
    "            'rank': int(rank),\n",
    "            'title': title,\n",
    "            'score': float(score) if score != 'N/A' else None,\n",
    "            'info': info\n",
    "        })\n",
    "\n",
    "    time.sleep(1)"
   ]
  },
  {
   "cell_type": "code",
   "execution_count": 6,
   "id": "374e82ea",
   "metadata": {},
   "outputs": [
    {
     "data": {
      "application/vnd.microsoft.datawrangler.viewer.v0+json": {
       "columns": [
        {
         "name": "index",
         "rawType": "int64",
         "type": "integer"
        },
        {
         "name": "rank",
         "rawType": "int64",
         "type": "integer"
        },
        {
         "name": "title",
         "rawType": "object",
         "type": "string"
        },
        {
         "name": "score",
         "rawType": "float64",
         "type": "float"
        },
        {
         "name": "info",
         "rawType": "object",
         "type": "string"
        }
       ],
       "ref": "a201aa97-4646-4c03-9168-5b9b08df818b",
       "rows": [
        [
         "0",
         "1",
         "Sousou no Frieren",
         "9.3",
         "TV (28 eps)         Sep 2023 - Mar 2024         1,155,200 members"
        ],
        [
         "1",
         "2",
         "Fullmetal Alchemist: Brotherhood",
         "9.1",
         "TV (64 eps)         Apr 2009 - Jul 2010         3,539,299 members"
        ],
        [
         "2",
         "3",
         "Steins;Gate",
         "9.07",
         "TV (24 eps)         Apr 2011 - Sep 2011         2,710,632 members"
        ],
        [
         "3",
         "4",
         "Shingeki no Kyojin Season 3 Part 2",
         "9.05",
         "TV (10 eps)         Apr 2019 - Jul 2019         2,461,239 members"
        ],
        [
         "4",
         "5",
         "Gintama°",
         "9.05",
         "TV (51 eps)         Apr 2015 - Mar 2016         670,442 members"
        ]
       ],
       "shape": {
        "columns": 4,
        "rows": 5
       }
      },
      "text/html": [
       "<div>\n",
       "<style scoped>\n",
       "    .dataframe tbody tr th:only-of-type {\n",
       "        vertical-align: middle;\n",
       "    }\n",
       "\n",
       "    .dataframe tbody tr th {\n",
       "        vertical-align: top;\n",
       "    }\n",
       "\n",
       "    .dataframe thead th {\n",
       "        text-align: right;\n",
       "    }\n",
       "</style>\n",
       "<table border=\"1\" class=\"dataframe\">\n",
       "  <thead>\n",
       "    <tr style=\"text-align: right;\">\n",
       "      <th></th>\n",
       "      <th>rank</th>\n",
       "      <th>title</th>\n",
       "      <th>score</th>\n",
       "      <th>info</th>\n",
       "    </tr>\n",
       "  </thead>\n",
       "  <tbody>\n",
       "    <tr>\n",
       "      <th>0</th>\n",
       "      <td>1</td>\n",
       "      <td>Sousou no Frieren</td>\n",
       "      <td>9.30</td>\n",
       "      <td>TV (28 eps)         Sep 2023 - Mar 2024       ...</td>\n",
       "    </tr>\n",
       "    <tr>\n",
       "      <th>1</th>\n",
       "      <td>2</td>\n",
       "      <td>Fullmetal Alchemist: Brotherhood</td>\n",
       "      <td>9.10</td>\n",
       "      <td>TV (64 eps)         Apr 2009 - Jul 2010       ...</td>\n",
       "    </tr>\n",
       "    <tr>\n",
       "      <th>2</th>\n",
       "      <td>3</td>\n",
       "      <td>Steins;Gate</td>\n",
       "      <td>9.07</td>\n",
       "      <td>TV (24 eps)         Apr 2011 - Sep 2011       ...</td>\n",
       "    </tr>\n",
       "    <tr>\n",
       "      <th>3</th>\n",
       "      <td>4</td>\n",
       "      <td>Shingeki no Kyojin Season 3 Part 2</td>\n",
       "      <td>9.05</td>\n",
       "      <td>TV (10 eps)         Apr 2019 - Jul 2019       ...</td>\n",
       "    </tr>\n",
       "    <tr>\n",
       "      <th>4</th>\n",
       "      <td>5</td>\n",
       "      <td>Gintama°</td>\n",
       "      <td>9.05</td>\n",
       "      <td>TV (51 eps)         Apr 2015 - Mar 2016       ...</td>\n",
       "    </tr>\n",
       "  </tbody>\n",
       "</table>\n",
       "</div>"
      ],
      "text/plain": [
       "   rank                               title  score  \\\n",
       "0     1                   Sousou no Frieren   9.30   \n",
       "1     2    Fullmetal Alchemist: Brotherhood   9.10   \n",
       "2     3                         Steins;Gate   9.07   \n",
       "3     4  Shingeki no Kyojin Season 3 Part 2   9.05   \n",
       "4     5                            Gintama°   9.05   \n",
       "\n",
       "                                                info  \n",
       "0  TV (28 eps)         Sep 2023 - Mar 2024       ...  \n",
       "1  TV (64 eps)         Apr 2009 - Jul 2010       ...  \n",
       "2  TV (24 eps)         Apr 2011 - Sep 2011       ...  \n",
       "3  TV (10 eps)         Apr 2019 - Jul 2019       ...  \n",
       "4  TV (51 eps)         Apr 2015 - Mar 2016       ...  "
      ]
     },
     "execution_count": 6,
     "metadata": {},
     "output_type": "execute_result"
    }
   ],
   "source": [
    "df= pd.DataFrame(all_data)\n",
    "df.head()"
   ]
  },
  {
   "cell_type": "markdown",
   "id": "dbcad5b8",
   "metadata": {},
   "source": [
    "Splitting data from info column like Type and Episodes."
   ]
  },
  {
   "cell_type": "code",
   "execution_count": 7,
   "id": "33a3a61d",
   "metadata": {},
   "outputs": [
    {
     "data": {
      "application/vnd.microsoft.datawrangler.viewer.v0+json": {
       "columns": [
        {
         "name": "index",
         "rawType": "int64",
         "type": "integer"
        },
        {
         "name": "rank",
         "rawType": "int64",
         "type": "integer"
        },
        {
         "name": "title",
         "rawType": "object",
         "type": "string"
        },
        {
         "name": "score",
         "rawType": "float64",
         "type": "float"
        },
        {
         "name": "info",
         "rawType": "object",
         "type": "string"
        },
        {
         "name": "type",
         "rawType": "object",
         "type": "string"
        },
        {
         "name": "episodes",
         "rawType": "float64",
         "type": "float"
        }
       ],
       "ref": "9dff5cc1-537d-44ac-aae8-81f7e19cb90f",
       "rows": [
        [
         "0",
         "1",
         "Sousou no Frieren",
         "9.3",
         "TV (28 eps)         Sep 2023 - Mar 2024         1,155,200 members",
         "TV",
         "28.0"
        ],
        [
         "1",
         "2",
         "Fullmetal Alchemist: Brotherhood",
         "9.1",
         "TV (64 eps)         Apr 2009 - Jul 2010         3,539,299 members",
         "TV",
         "64.0"
        ],
        [
         "2",
         "3",
         "Steins;Gate",
         "9.07",
         "TV (24 eps)         Apr 2011 - Sep 2011         2,710,632 members",
         "TV",
         "24.0"
        ],
        [
         "3",
         "4",
         "Shingeki no Kyojin Season 3 Part 2",
         "9.05",
         "TV (10 eps)         Apr 2019 - Jul 2019         2,461,239 members",
         "TV",
         "10.0"
        ],
        [
         "4",
         "5",
         "Gintama°",
         "9.05",
         "TV (51 eps)         Apr 2015 - Mar 2016         670,442 members",
         "TV",
         "51.0"
        ]
       ],
       "shape": {
        "columns": 6,
        "rows": 5
       }
      },
      "text/html": [
       "<div>\n",
       "<style scoped>\n",
       "    .dataframe tbody tr th:only-of-type {\n",
       "        vertical-align: middle;\n",
       "    }\n",
       "\n",
       "    .dataframe tbody tr th {\n",
       "        vertical-align: top;\n",
       "    }\n",
       "\n",
       "    .dataframe thead th {\n",
       "        text-align: right;\n",
       "    }\n",
       "</style>\n",
       "<table border=\"1\" class=\"dataframe\">\n",
       "  <thead>\n",
       "    <tr style=\"text-align: right;\">\n",
       "      <th></th>\n",
       "      <th>rank</th>\n",
       "      <th>title</th>\n",
       "      <th>score</th>\n",
       "      <th>info</th>\n",
       "      <th>type</th>\n",
       "      <th>episodes</th>\n",
       "    </tr>\n",
       "  </thead>\n",
       "  <tbody>\n",
       "    <tr>\n",
       "      <th>0</th>\n",
       "      <td>1</td>\n",
       "      <td>Sousou no Frieren</td>\n",
       "      <td>9.30</td>\n",
       "      <td>TV (28 eps)         Sep 2023 - Mar 2024       ...</td>\n",
       "      <td>TV</td>\n",
       "      <td>28.0</td>\n",
       "    </tr>\n",
       "    <tr>\n",
       "      <th>1</th>\n",
       "      <td>2</td>\n",
       "      <td>Fullmetal Alchemist: Brotherhood</td>\n",
       "      <td>9.10</td>\n",
       "      <td>TV (64 eps)         Apr 2009 - Jul 2010       ...</td>\n",
       "      <td>TV</td>\n",
       "      <td>64.0</td>\n",
       "    </tr>\n",
       "    <tr>\n",
       "      <th>2</th>\n",
       "      <td>3</td>\n",
       "      <td>Steins;Gate</td>\n",
       "      <td>9.07</td>\n",
       "      <td>TV (24 eps)         Apr 2011 - Sep 2011       ...</td>\n",
       "      <td>TV</td>\n",
       "      <td>24.0</td>\n",
       "    </tr>\n",
       "    <tr>\n",
       "      <th>3</th>\n",
       "      <td>4</td>\n",
       "      <td>Shingeki no Kyojin Season 3 Part 2</td>\n",
       "      <td>9.05</td>\n",
       "      <td>TV (10 eps)         Apr 2019 - Jul 2019       ...</td>\n",
       "      <td>TV</td>\n",
       "      <td>10.0</td>\n",
       "    </tr>\n",
       "    <tr>\n",
       "      <th>4</th>\n",
       "      <td>5</td>\n",
       "      <td>Gintama°</td>\n",
       "      <td>9.05</td>\n",
       "      <td>TV (51 eps)         Apr 2015 - Mar 2016       ...</td>\n",
       "      <td>TV</td>\n",
       "      <td>51.0</td>\n",
       "    </tr>\n",
       "  </tbody>\n",
       "</table>\n",
       "</div>"
      ],
      "text/plain": [
       "   rank                               title  score  \\\n",
       "0     1                   Sousou no Frieren   9.30   \n",
       "1     2    Fullmetal Alchemist: Brotherhood   9.10   \n",
       "2     3                         Steins;Gate   9.07   \n",
       "3     4  Shingeki no Kyojin Season 3 Part 2   9.05   \n",
       "4     5                            Gintama°   9.05   \n",
       "\n",
       "                                                info type  episodes  \n",
       "0  TV (28 eps)         Sep 2023 - Mar 2024       ...   TV      28.0  \n",
       "1  TV (64 eps)         Apr 2009 - Jul 2010       ...   TV      64.0  \n",
       "2  TV (24 eps)         Apr 2011 - Sep 2011       ...   TV      24.0  \n",
       "3  TV (10 eps)         Apr 2019 - Jul 2019       ...   TV      10.0  \n",
       "4  TV (51 eps)         Apr 2015 - Mar 2016       ...   TV      51.0  "
      ]
     },
     "execution_count": 7,
     "metadata": {},
     "output_type": "execute_result"
    }
   ],
   "source": [
    "def parse_type_and_episodes(info):\n",
    "    try:\n",
    "        parts = info.split('scored')[0].strip().split('(')\n",
    "        anime_type = parts[0].strip()\n",
    "        episodes = parts[1].split()[0] if len(parts) > 1 else None\n",
    "        return pd.Series([anime_type, int(episodes) if episodes and episodes.isdigit() else None])\n",
    "    except:\n",
    "        return pd.Series([None, None])\n",
    "\n",
    "df[['type', 'episodes']] = df['info'].apply(parse_type_and_episodes)\n",
    "df.head()\n"
   ]
  },
  {
   "cell_type": "code",
   "execution_count": null,
   "id": "5963d929",
   "metadata": {},
   "outputs": [],
   "source": []
  },
  {
   "cell_type": "markdown",
   "id": "98526da6",
   "metadata": {},
   "source": [
    "## Visualisation"
   ]
  },
  {
   "cell_type": "markdown",
   "id": "9807cbe2",
   "metadata": {},
   "source": [
    "### Average Score by Anime Type"
   ]
  },
  {
   "cell_type": "code",
   "execution_count": 8,
   "id": "32e940e0",
   "metadata": {},
   "outputs": [
    {
     "name": "stderr",
     "output_type": "stream",
     "text": [
      "C:\\Users\\atewa\\AppData\\Local\\Temp\\ipykernel_7708\\2079706562.py:2: FutureWarning: \n",
      "\n",
      "Passing `palette` without assigning `hue` is deprecated and will be removed in v0.14.0. Assign the `x` variable to `hue` and set `legend=False` for the same effect.\n",
      "\n",
      "  sns.barplot(data=df, x='type', y='score', palette='magma',legend=True)\n"
     ]
    },
    {
     "data": {
      "image/png": "[encoded data removed]",
      "text/plain": [
       "<Figure size 800x500 with 1 Axes>"
      ]
     },
     "metadata": {},
     "output_type": "display_data"
    }
   ],
   "source": [
    "plt.figure(figsize=(8, 5))\n",
    "sns.barplot(data=df, x='type', y='score', palette='magma',legend=True)\n",
    "plt.title(\"Average Score by Anime Type\")\n",
    "plt.ylabel(\"Score\")\n",
    "plt.xlabel(\"Type\")\n",
    "plt.show()"
   ]
  },
  {
   "cell_type": "markdown",
   "id": "7c3a1f42",
   "metadata": {},
   "source": [
    "### Episode Count vs. Score"
   ]
  },
  {
   "cell_type": "code",
   "execution_count": 9,
   "id": "eebbaead",
   "metadata": {},
   "outputs": [
    {
     "data": {
      "image/png": "[encoded data removed]",
      "text/plain": [
       "<Figure size 1000x600 with 1 Axes>"
      ]
     },
     "metadata": {},
     "output_type": "display_data"
    }
   ],
   "source": [
    "plt.figure(figsize=(10, 6))\n",
    "sns.scatterplot(data=df, x='episodes', y='score', hue='type', size='score', palette='Set2')\n",
    "plt.title(\"Episodes vs Score (Grouped by Type)\")\n",
    "plt.xlabel(\"Episodes\")\n",
    "plt.ylabel(\"Score\")\n",
    "plt.show()\n"
   ]
  },
  {
   "cell_type": "markdown",
   "id": "3f5d90e9",
   "metadata": {},
   "source": [
    "### Score by Episode Ranges"
   ]
  },
  {
   "cell_type": "code",
   "execution_count": 10,
   "id": "71928f71",
   "metadata": {},
   "outputs": [
    {
     "name": "stderr",
     "output_type": "stream",
     "text": [
      "C:\\Users\\atewa\\AppData\\Local\\Temp\\ipykernel_7708\\4280835732.py:5: FutureWarning: \n",
      "\n",
      "Passing `palette` without assigning `hue` is deprecated and will be removed in v0.14.0. Assign the `x` variable to `hue` and set `legend=False` for the same effect.\n",
      "\n",
      "  sns.boxplot(data=df, x='episode_bins', y='score', palette='Blues')\n"
     ]
    },
    {
     "data": {
      "image/png": "[encoded data removed]",
      "text/plain": [
       "<Figure size 800x500 with 1 Axes>"
      ]
     },
     "metadata": {},
     "output_type": "display_data"
    }
   ],
   "source": [
    "df['episode_bins'] = pd.cut(df['episodes'], bins=[0, 12, 26, 1000],\n",
    "                            labels=['Short (<=12)', 'Medium (13–26)', 'Long (>26)'])\n",
    "\n",
    "plt.figure(figsize=(8, 5))\n",
    "sns.boxplot(data=df, x='episode_bins', y='score', palette='Blues')\n",
    "plt.title(\"Score Distribution by Episode Count\")\n",
    "plt.xlabel(\"Episode Range\")\n",
    "plt.ylabel(\"Score\")\n",
    "plt.show()\n"
   ]
  },
  {
   "cell_type": "code",
   "execution_count": 11,
   "id": "9cd638b9",
   "metadata": {},
   "outputs": [
    {
     "data": {
      "application/vnd.microsoft.datawrangler.viewer.v0+json": {
       "columns": [
        {
         "name": "index",
         "rawType": "int64",
         "type": "integer"
        },
        {
         "name": "rank",
         "rawType": "int64",
         "type": "integer"
        },
        {
         "name": "title",
         "rawType": "object",
         "type": "string"
        },
        {
         "name": "score",
         "rawType": "float64",
         "type": "float"
        },
        {
         "name": "info",
         "rawType": "object",
         "type": "string"
        },
        {
         "name": "type",
         "rawType": "object",
         "type": "string"
        },
        {
         "name": "episodes",
         "rawType": "float64",
         "type": "float"
        },
        {
         "name": "episode_bins",
         "rawType": "category",
         "type": "unknown"
        }
       ],
       "ref": "0ee2082f-03fa-4545-ab5a-4b43b1a09ba3",
       "rows": [
        [
         "0",
         "1",
         "Sousou no Frieren",
         "9.3",
         "TV (28 eps)         Sep 2023 - Mar 2024         1,155,200 members",
         "TV",
         "28.0",
         "Long (>26)"
        ],
        [
         "1",
         "2",
         "Fullmetal Alchemist: Brotherhood",
         "9.1",
         "TV (64 eps)         Apr 2009 - Jul 2010         3,539,299 members",
         "TV",
         "64.0",
         "Long (>26)"
        ],
        [
         "2",
         "3",
         "Steins;Gate",
         "9.07",
         "TV (24 eps)         Apr 2011 - Sep 2011         2,710,632 members",
         "TV",
         "24.0",
         "Medium (13–26)"
        ],
        [
         "3",
         "4",
         "Shingeki no Kyojin Season 3 Part 2",
         "9.05",
         "TV (10 eps)         Apr 2019 - Jul 2019         2,461,239 members",
         "TV",
         "10.0",
         "Short (<=12)"
        ],
        [
         "4",
         "5",
         "Gintama°",
         "9.05",
         "TV (51 eps)         Apr 2015 - Mar 2016         670,442 members",
         "TV",
         "51.0",
         "Long (>26)"
        ]
       ],
       "shape": {
        "columns": 7,
        "rows": 5
       }
      },
      "text/html": [
       "<div>\n",
       "<style scoped>\n",
       "    .dataframe tbody tr th:only-of-type {\n",
       "        vertical-align: middle;\n",
       "    }\n",
       "\n",
       "    .dataframe tbody tr th {\n",
       "        vertical-align: top;\n",
       "    }\n",
       "\n",
       "    .dataframe thead th {\n",
       "        text-align: right;\n",
       "    }\n",
       "</style>\n",
       "<table border=\"1\" class=\"dataframe\">\n",
       "  <thead>\n",
       "    <tr style=\"text-align: right;\">\n",
       "      <th></th>\n",
       "      <th>rank</th>\n",
       "      <th>title</th>\n",
       "      <th>score</th>\n",
       "      <th>info</th>\n",
       "      <th>type</th>\n",
       "      <th>episodes</th>\n",
       "      <th>episode_bins</th>\n",
       "    </tr>\n",
       "  </thead>\n",
       "  <tbody>\n",
       "    <tr>\n",
       "      <th>0</th>\n",
       "      <td>1</td>\n",
       "      <td>Sousou no Frieren</td>\n",
       "      <td>9.30</td>\n",
       "      <td>TV (28 eps)         Sep 2023 - Mar 2024       ...</td>\n",
       "      <td>TV</td>\n",
       "      <td>28.0</td>\n",
       "      <td>Long (&gt;26)</td>\n",
       "    </tr>\n",
       "    <tr>\n",
       "      <th>1</th>\n",
       "      <td>2</td>\n",
       "      <td>Fullmetal Alchemist: Brotherhood</td>\n",
       "      <td>9.10</td>\n",
       "      <td>TV (64 eps)         Apr 2009 - Jul 2010       ...</td>\n",
       "      <td>TV</td>\n",
       "      <td>64.0</td>\n",
       "      <td>Long (&gt;26)</td>\n",
       "    </tr>\n",
       "    <tr>\n",
       "      <th>2</th>\n",
       "      <td>3</td>\n",
       "      <td>Steins;Gate</td>\n",
       "      <td>9.07</td>\n",
       "      <td>TV (24 eps)         Apr 2011 - Sep 2011       ...</td>\n",
       "      <td>TV</td>\n",
       "      <td>24.0</td>\n",
       "      <td>Medium (13–26)</td>\n",
       "    </tr>\n",
       "    <tr>\n",
       "      <th>3</th>\n",
       "      <td>4</td>\n",
       "      <td>Shingeki no Kyojin Season 3 Part 2</td>\n",
       "      <td>9.05</td>\n",
       "      <td>TV (10 eps)         Apr 2019 - Jul 2019       ...</td>\n",
       "      <td>TV</td>\n",
       "      <td>10.0</td>\n",
       "      <td>Short (&lt;=12)</td>\n",
       "    </tr>\n",
       "    <tr>\n",
       "      <th>4</th>\n",
       "      <td>5</td>\n",
       "      <td>Gintama°</td>\n",
       "      <td>9.05</td>\n",
       "      <td>TV (51 eps)         Apr 2015 - Mar 2016       ...</td>\n",
       "      <td>TV</td>\n",
       "      <td>51.0</td>\n",
       "      <td>Long (&gt;26)</td>\n",
       "    </tr>\n",
       "  </tbody>\n",
       "</table>\n",
       "</div>"
      ],
      "text/plain": [
       "   rank                               title  score  \\\n",
       "0     1                   Sousou no Frieren   9.30   \n",
       "1     2    Fullmetal Alchemist: Brotherhood   9.10   \n",
       "2     3                         Steins;Gate   9.07   \n",
       "3     4  Shingeki no Kyojin Season 3 Part 2   9.05   \n",
       "4     5                            Gintama°   9.05   \n",
       "\n",
       "                                                info type  episodes  \\\n",
       "0  TV (28 eps)         Sep 2023 - Mar 2024       ...   TV      28.0   \n",
       "1  TV (64 eps)         Apr 2009 - Jul 2010       ...   TV      64.0   \n",
       "2  TV (24 eps)         Apr 2011 - Sep 2011       ...   TV      24.0   \n",
       "3  TV (10 eps)         Apr 2019 - Jul 2019       ...   TV      10.0   \n",
       "4  TV (51 eps)         Apr 2015 - Mar 2016       ...   TV      51.0   \n",
       "\n",
       "     episode_bins  \n",
       "0      Long (>26)  \n",
       "1      Long (>26)  \n",
       "2  Medium (13–26)  \n",
       "3    Short (<=12)  \n",
       "4      Long (>26)  "
      ]
     },
     "execution_count": 11,
     "metadata": {},
     "output_type": "execute_result"
    }
   ],
   "source": [
    "df.head()"
   ]
  },
  {
   "cell_type": "code",
   "execution_count": 12,
   "id": "6f7054d8",
   "metadata": {},
   "outputs": [],
   "source": [
    "df.to_csv(r\"C:\\Users\\atewa\\OneDrive\\Desktop\\DA_Projects\\Top 250 anime\\myanimelist_top_250.csv\",index=False)"
   ]
  }
 ],
 "metadata": {
  "kernelspec": {
   "display_name": "Python 3",
   "language": "python",
   "name": "python3"
  },
  "language_info": {
   "codemirror_mode": {
    "name": "ipython",
    "version": 3
   },
   "file_extension": ".py",
   "mimetype": "text/x-python",
   "name": "python",
   "nbconvert_exporter": "python",
   "pygments_lexer": "ipython3",
   "version": "3.13.0"
  }
 },
 "nbformat": 4,
 "nbformat_minor": 5
}
